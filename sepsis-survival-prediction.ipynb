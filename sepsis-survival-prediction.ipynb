{
 "cells": [
  {
   "cell_type": "markdown",
   "id": "2f33a82d",
   "metadata": {
    "papermill": {
     "duration": 0.008826,
     "end_time": "2023-11-07T03:43:33.974856",
     "exception": false,
     "start_time": "2023-11-07T03:43:33.966030",
     "status": "completed"
    },
    "tags": []
   },
   "source": [
    "# About Dataset"
   ]
  },
  {
   "cell_type": "markdown",
   "id": "0832c358",
   "metadata": {
    "papermill": {
     "duration": 0.007201,
     "end_time": "2023-11-07T03:43:33.989778",
     "exception": false,
     "start_time": "2023-11-07T03:43:33.982577",
     "status": "completed"
    },
    "tags": []
   },
   "source": [
    "**The dataset consists of 110,204 admissions of 84,811 hospitalized subjects between 2011 and 2012 in Norway who were diagnosed with infections, systemic inflammatory response syndrome, sepsis by causative microbes, or septic shock. The prediction task is to determine whether a patient survived or is deceased at a time of about 9 days after collecting their medical record at the hospital.**"
   ]
  },
  {
   "cell_type": "markdown",
   "id": "c7e63c8c",
   "metadata": {
    "papermill": {
     "duration": 0.007085,
     "end_time": "2023-11-07T03:43:34.004368",
     "exception": false,
     "start_time": "2023-11-07T03:43:33.997283",
     "status": "completed"
    },
    "tags": []
   },
   "source": [
    "**About columns in dataset**\n",
    "\n",
    "1.age_years : Age of patients in Years\n",
    "\n",
    "2.sex_0male_1female : Gender of pateints encoded as { 0:male , 1:Female }\n",
    "\n",
    "3.episode_number : Number of prior sepsis episodes\n",
    "\n",
    "4.hospital_outcome_1alive_0dead : Status of Pateints after 9351 days of being admitted to hospital encoded as { 0:Dead, 1:Alive }"
   ]
  },
  {
   "cell_type": "code",
   "execution_count": 1,
   "id": "a826bc69",
   "metadata": {
    "_cell_guid": "b1076dfc-b9ad-4769-8c92-a6c4dae69d19",
    "_uuid": "8f2839f25d086af736a60e9eeb907d3b93b6e0e5",
    "execution": {
     "iopub.execute_input": "2023-11-07T03:43:34.021154Z",
     "iopub.status.busy": "2023-11-07T03:43:34.020506Z",
     "iopub.status.idle": "2023-11-07T03:43:36.399213Z",
     "shell.execute_reply": "2023-11-07T03:43:36.397906Z"
    },
    "papermill": {
     "duration": 2.390263,
     "end_time": "2023-11-07T03:43:36.401848",
     "exception": false,
     "start_time": "2023-11-07T03:43:34.011585",
     "status": "completed"
    },
    "tags": []
   },
   "outputs": [
    {
     "name": "stderr",
     "output_type": "stream",
     "text": [
      "C:\\Users\\narsi\\anaconda3\\lib\\site-packages\\scipy\\__init__.py:155: UserWarning: A NumPy version >=1.18.5 and <1.25.0 is required for this version of SciPy (detected version 1.26.2\n",
      "  warnings.warn(f\"A NumPy version >={np_minversion} and <{np_maxversion}\"\n"
     ]
    }
   ],
   "source": [
    "#importing necessary libraries\n",
    "import numpy as np\n",
    "import pandas as pd\n",
    "import seaborn as sns\n",
    "import matplotlib.pyplot as plt\n",
    "\n",
    "from sklearn.model_selection import train_test_split\n",
    "from sklearn.linear_model import LogisticRegression\n",
    "from sklearn.preprocessing import StandardScaler\n",
    "from sklearn.neighbors import KNeighborsClassifier\n",
    "from sklearn.tree import DecisionTreeClassifier,plot_tree\n",
    "\n",
    "from sklearn.metrics import accuracy_score"
   ]
  },
  {
   "cell_type": "code",
   "execution_count": 2,
   "id": "2d3c097a",
   "metadata": {
    "execution": {
     "iopub.execute_input": "2023-11-07T03:43:36.418651Z",
     "iopub.status.busy": "2023-11-07T03:43:36.418169Z",
     "iopub.status.idle": "2023-11-07T03:43:36.494648Z",
     "shell.execute_reply": "2023-11-07T03:43:36.492901Z"
    },
    "papermill": {
     "duration": 0.08758,
     "end_time": "2023-11-07T03:43:36.497156",
     "exception": false,
     "start_time": "2023-11-07T03:43:36.409576",
     "status": "completed"
    },
    "tags": []
   },
   "outputs": [
    {
     "ename": "FileNotFoundError",
     "evalue": "[Errno 2] No such file or directory: '/Users/jagannath/Downloads/sepsis prediction/sepsis_data1.csv'",
     "output_type": "error",
     "traceback": [
      "\u001b[1;31m---------------------------------------------------------------------------\u001b[0m",
      "\u001b[1;31mFileNotFoundError\u001b[0m                         Traceback (most recent call last)",
      "\u001b[1;32m~\\AppData\\Local\\Temp\\ipykernel_30424\\803819600.py\u001b[0m in \u001b[0;36m<module>\u001b[1;34m\u001b[0m\n\u001b[0;32m      1\u001b[0m \u001b[1;31m#importing dataset\u001b[0m\u001b[1;33m\u001b[0m\u001b[1;33m\u001b[0m\u001b[0m\n\u001b[1;32m----> 2\u001b[1;33m \u001b[0mdf1\u001b[0m\u001b[1;33m=\u001b[0m\u001b[0mpd\u001b[0m\u001b[1;33m.\u001b[0m\u001b[0mread_csv\u001b[0m\u001b[1;33m(\u001b[0m\u001b[1;34m\"/Users/jagannath/Downloads/sepsis prediction/sepsis_data1.csv\"\u001b[0m\u001b[1;33m)\u001b[0m\u001b[1;33m\u001b[0m\u001b[1;33m\u001b[0m\u001b[0m\n\u001b[0m\u001b[0;32m      3\u001b[0m \u001b[0mdf2\u001b[0m\u001b[1;33m=\u001b[0m\u001b[0mpd\u001b[0m\u001b[1;33m.\u001b[0m\u001b[0mread_csv\u001b[0m\u001b[1;33m(\u001b[0m\u001b[1;34m\"/Users/jagannath/Downloads/sepsis prediction/sepsis_data2.csv\"\u001b[0m\u001b[1;33m)\u001b[0m\u001b[1;33m\u001b[0m\u001b[1;33m\u001b[0m\u001b[0m\n\u001b[0;32m      4\u001b[0m \u001b[0mdf3\u001b[0m\u001b[1;33m=\u001b[0m\u001b[0mpd\u001b[0m\u001b[1;33m.\u001b[0m\u001b[0mread_csv\u001b[0m\u001b[1;33m(\u001b[0m\u001b[1;34m\"/Users/jagannath/Downloads/sepsis prediction/sepsis_data3.csv\"\u001b[0m\u001b[1;33m)\u001b[0m\u001b[1;33m\u001b[0m\u001b[1;33m\u001b[0m\u001b[0m\n",
      "\u001b[1;32m~\\anaconda3\\lib\\site-packages\\pandas\\util\\_decorators.py\u001b[0m in \u001b[0;36mwrapper\u001b[1;34m(*args, **kwargs)\u001b[0m\n\u001b[0;32m    309\u001b[0m                     \u001b[0mstacklevel\u001b[0m\u001b[1;33m=\u001b[0m\u001b[0mstacklevel\u001b[0m\u001b[1;33m,\u001b[0m\u001b[1;33m\u001b[0m\u001b[1;33m\u001b[0m\u001b[0m\n\u001b[0;32m    310\u001b[0m                 )\n\u001b[1;32m--> 311\u001b[1;33m             \u001b[1;32mreturn\u001b[0m \u001b[0mfunc\u001b[0m\u001b[1;33m(\u001b[0m\u001b[1;33m*\u001b[0m\u001b[0margs\u001b[0m\u001b[1;33m,\u001b[0m \u001b[1;33m**\u001b[0m\u001b[0mkwargs\u001b[0m\u001b[1;33m)\u001b[0m\u001b[1;33m\u001b[0m\u001b[1;33m\u001b[0m\u001b[0m\n\u001b[0m\u001b[0;32m    312\u001b[0m \u001b[1;33m\u001b[0m\u001b[0m\n\u001b[0;32m    313\u001b[0m         \u001b[1;32mreturn\u001b[0m \u001b[0mwrapper\u001b[0m\u001b[1;33m\u001b[0m\u001b[1;33m\u001b[0m\u001b[0m\n",
      "\u001b[1;32m~\\anaconda3\\lib\\site-packages\\pandas\\io\\parsers\\readers.py\u001b[0m in \u001b[0;36mread_csv\u001b[1;34m(filepath_or_buffer, sep, delimiter, header, names, index_col, usecols, squeeze, prefix, mangle_dupe_cols, dtype, engine, converters, true_values, false_values, skipinitialspace, skiprows, skipfooter, nrows, na_values, keep_default_na, na_filter, verbose, skip_blank_lines, parse_dates, infer_datetime_format, keep_date_col, date_parser, dayfirst, cache_dates, iterator, chunksize, compression, thousands, decimal, lineterminator, quotechar, quoting, doublequote, escapechar, comment, encoding, encoding_errors, dialect, error_bad_lines, warn_bad_lines, on_bad_lines, delim_whitespace, low_memory, memory_map, float_precision, storage_options)\u001b[0m\n\u001b[0;32m    676\u001b[0m     \u001b[0mkwds\u001b[0m\u001b[1;33m.\u001b[0m\u001b[0mupdate\u001b[0m\u001b[1;33m(\u001b[0m\u001b[0mkwds_defaults\u001b[0m\u001b[1;33m)\u001b[0m\u001b[1;33m\u001b[0m\u001b[1;33m\u001b[0m\u001b[0m\n\u001b[0;32m    677\u001b[0m \u001b[1;33m\u001b[0m\u001b[0m\n\u001b[1;32m--> 678\u001b[1;33m     \u001b[1;32mreturn\u001b[0m \u001b[0m_read\u001b[0m\u001b[1;33m(\u001b[0m\u001b[0mfilepath_or_buffer\u001b[0m\u001b[1;33m,\u001b[0m \u001b[0mkwds\u001b[0m\u001b[1;33m)\u001b[0m\u001b[1;33m\u001b[0m\u001b[1;33m\u001b[0m\u001b[0m\n\u001b[0m\u001b[0;32m    679\u001b[0m \u001b[1;33m\u001b[0m\u001b[0m\n\u001b[0;32m    680\u001b[0m \u001b[1;33m\u001b[0m\u001b[0m\n",
      "\u001b[1;32m~\\anaconda3\\lib\\site-packages\\pandas\\io\\parsers\\readers.py\u001b[0m in \u001b[0;36m_read\u001b[1;34m(filepath_or_buffer, kwds)\u001b[0m\n\u001b[0;32m    573\u001b[0m \u001b[1;33m\u001b[0m\u001b[0m\n\u001b[0;32m    574\u001b[0m     \u001b[1;31m# Create the parser.\u001b[0m\u001b[1;33m\u001b[0m\u001b[1;33m\u001b[0m\u001b[0m\n\u001b[1;32m--> 575\u001b[1;33m     \u001b[0mparser\u001b[0m \u001b[1;33m=\u001b[0m \u001b[0mTextFileReader\u001b[0m\u001b[1;33m(\u001b[0m\u001b[0mfilepath_or_buffer\u001b[0m\u001b[1;33m,\u001b[0m \u001b[1;33m**\u001b[0m\u001b[0mkwds\u001b[0m\u001b[1;33m)\u001b[0m\u001b[1;33m\u001b[0m\u001b[1;33m\u001b[0m\u001b[0m\n\u001b[0m\u001b[0;32m    576\u001b[0m \u001b[1;33m\u001b[0m\u001b[0m\n\u001b[0;32m    577\u001b[0m     \u001b[1;32mif\u001b[0m \u001b[0mchunksize\u001b[0m \u001b[1;32mor\u001b[0m \u001b[0miterator\u001b[0m\u001b[1;33m:\u001b[0m\u001b[1;33m\u001b[0m\u001b[1;33m\u001b[0m\u001b[0m\n",
      "\u001b[1;32m~\\anaconda3\\lib\\site-packages\\pandas\\io\\parsers\\readers.py\u001b[0m in \u001b[0;36m__init__\u001b[1;34m(self, f, engine, **kwds)\u001b[0m\n\u001b[0;32m    930\u001b[0m \u001b[1;33m\u001b[0m\u001b[0m\n\u001b[0;32m    931\u001b[0m         \u001b[0mself\u001b[0m\u001b[1;33m.\u001b[0m\u001b[0mhandles\u001b[0m\u001b[1;33m:\u001b[0m \u001b[0mIOHandles\u001b[0m \u001b[1;33m|\u001b[0m \u001b[1;32mNone\u001b[0m \u001b[1;33m=\u001b[0m \u001b[1;32mNone\u001b[0m\u001b[1;33m\u001b[0m\u001b[1;33m\u001b[0m\u001b[0m\n\u001b[1;32m--> 932\u001b[1;33m         \u001b[0mself\u001b[0m\u001b[1;33m.\u001b[0m\u001b[0m_engine\u001b[0m \u001b[1;33m=\u001b[0m \u001b[0mself\u001b[0m\u001b[1;33m.\u001b[0m\u001b[0m_make_engine\u001b[0m\u001b[1;33m(\u001b[0m\u001b[0mf\u001b[0m\u001b[1;33m,\u001b[0m \u001b[0mself\u001b[0m\u001b[1;33m.\u001b[0m\u001b[0mengine\u001b[0m\u001b[1;33m)\u001b[0m\u001b[1;33m\u001b[0m\u001b[1;33m\u001b[0m\u001b[0m\n\u001b[0m\u001b[0;32m    933\u001b[0m \u001b[1;33m\u001b[0m\u001b[0m\n\u001b[0;32m    934\u001b[0m     \u001b[1;32mdef\u001b[0m \u001b[0mclose\u001b[0m\u001b[1;33m(\u001b[0m\u001b[0mself\u001b[0m\u001b[1;33m)\u001b[0m\u001b[1;33m:\u001b[0m\u001b[1;33m\u001b[0m\u001b[1;33m\u001b[0m\u001b[0m\n",
      "\u001b[1;32m~\\anaconda3\\lib\\site-packages\\pandas\\io\\parsers\\readers.py\u001b[0m in \u001b[0;36m_make_engine\u001b[1;34m(self, f, engine)\u001b[0m\n\u001b[0;32m   1214\u001b[0m             \u001b[1;31m# \"Union[str, PathLike[str], ReadCsvBuffer[bytes], ReadCsvBuffer[str]]\"\u001b[0m\u001b[1;33m\u001b[0m\u001b[1;33m\u001b[0m\u001b[0m\n\u001b[0;32m   1215\u001b[0m             \u001b[1;31m# , \"str\", \"bool\", \"Any\", \"Any\", \"Any\", \"Any\", \"Any\"\u001b[0m\u001b[1;33m\u001b[0m\u001b[1;33m\u001b[0m\u001b[0m\n\u001b[1;32m-> 1216\u001b[1;33m             self.handles = get_handle(  # type: ignore[call-overload]\n\u001b[0m\u001b[0;32m   1217\u001b[0m                 \u001b[0mf\u001b[0m\u001b[1;33m,\u001b[0m\u001b[1;33m\u001b[0m\u001b[1;33m\u001b[0m\u001b[0m\n\u001b[0;32m   1218\u001b[0m                 \u001b[0mmode\u001b[0m\u001b[1;33m,\u001b[0m\u001b[1;33m\u001b[0m\u001b[1;33m\u001b[0m\u001b[0m\n",
      "\u001b[1;32m~\\anaconda3\\lib\\site-packages\\pandas\\io\\common.py\u001b[0m in \u001b[0;36mget_handle\u001b[1;34m(path_or_buf, mode, encoding, compression, memory_map, is_text, errors, storage_options)\u001b[0m\n\u001b[0;32m    784\u001b[0m         \u001b[1;32mif\u001b[0m \u001b[0mioargs\u001b[0m\u001b[1;33m.\u001b[0m\u001b[0mencoding\u001b[0m \u001b[1;32mand\u001b[0m \u001b[1;34m\"b\"\u001b[0m \u001b[1;32mnot\u001b[0m \u001b[1;32min\u001b[0m \u001b[0mioargs\u001b[0m\u001b[1;33m.\u001b[0m\u001b[0mmode\u001b[0m\u001b[1;33m:\u001b[0m\u001b[1;33m\u001b[0m\u001b[1;33m\u001b[0m\u001b[0m\n\u001b[0;32m    785\u001b[0m             \u001b[1;31m# Encoding\u001b[0m\u001b[1;33m\u001b[0m\u001b[1;33m\u001b[0m\u001b[0m\n\u001b[1;32m--> 786\u001b[1;33m             handle = open(\n\u001b[0m\u001b[0;32m    787\u001b[0m                 \u001b[0mhandle\u001b[0m\u001b[1;33m,\u001b[0m\u001b[1;33m\u001b[0m\u001b[1;33m\u001b[0m\u001b[0m\n\u001b[0;32m    788\u001b[0m                 \u001b[0mioargs\u001b[0m\u001b[1;33m.\u001b[0m\u001b[0mmode\u001b[0m\u001b[1;33m,\u001b[0m\u001b[1;33m\u001b[0m\u001b[1;33m\u001b[0m\u001b[0m\n",
      "\u001b[1;31mFileNotFoundError\u001b[0m: [Errno 2] No such file or directory: '/Users/jagannath/Downloads/sepsis prediction/sepsis_data1.csv'"
     ]
    }
   ],
   "source": [
    "#importing dataset\n",
    "df1=pd.read_csv(\"/Users/jagannath/Downloads/sepsis prediction/sepsis_data1.csv\")\n",
    "df2=pd.read_csv(\"/Users/jagannath/Downloads/sepsis prediction/sepsis_data2.csv\")\n",
    "df3=pd.read_csv(\"/Users/jagannath/Downloads/sepsis prediction/sepsis_data3.csv\")"
   ]
  },
  {
   "cell_type": "code",
   "execution_count": 8,
   "id": "2ba64de2",
   "metadata": {
    "execution": {
     "iopub.execute_input": "2023-11-07T03:43:36.514431Z",
     "iopub.status.busy": "2023-11-07T03:43:36.514038Z",
     "iopub.status.idle": "2023-11-07T03:43:36.520463Z",
     "shell.execute_reply": "2023-11-07T03:43:36.519108Z"
    },
    "papermill": {
     "duration": 0.017788,
     "end_time": "2023-11-07T03:43:36.523060",
     "exception": false,
     "start_time": "2023-11-07T03:43:36.505272",
     "status": "completed"
    },
    "tags": []
   },
   "outputs": [
    {
     "ename": "NameError",
     "evalue": "name 'df1' is not defined",
     "output_type": "error",
     "traceback": [
      "\u001b[1;31m---------------------------------------------------------------------------\u001b[0m",
      "\u001b[1;31mNameError\u001b[0m                                 Traceback (most recent call last)",
      "\u001b[1;32m~\\AppData\\Local\\Temp\\ipykernel_30424\\2665802072.py\u001b[0m in \u001b[0;36m<module>\u001b[1;34m\u001b[0m\n\u001b[0;32m      1\u001b[0m \u001b[1;31m#joining all dataset into a single df\u001b[0m\u001b[1;33m\u001b[0m\u001b[1;33m\u001b[0m\u001b[0m\n\u001b[1;32m----> 2\u001b[1;33m \u001b[0mdf\u001b[0m\u001b[1;33m=\u001b[0m\u001b[0mpd\u001b[0m\u001b[1;33m.\u001b[0m\u001b[0mconcat\u001b[0m\u001b[1;33m(\u001b[0m\u001b[1;33m[\u001b[0m\u001b[0mdf1\u001b[0m\u001b[1;33m,\u001b[0m\u001b[0mdf2\u001b[0m\u001b[1;33m,\u001b[0m\u001b[0mdf3\u001b[0m\u001b[1;33m]\u001b[0m\u001b[1;33m,\u001b[0m\u001b[0maxis\u001b[0m\u001b[1;33m=\u001b[0m\u001b[1;36m0\u001b[0m\u001b[1;33m,\u001b[0m\u001b[0mignore_index\u001b[0m\u001b[1;33m=\u001b[0m\u001b[1;32mTrue\u001b[0m\u001b[1;33m)\u001b[0m\u001b[1;33m\u001b[0m\u001b[1;33m\u001b[0m\u001b[0m\n\u001b[0m",
      "\u001b[1;31mNameError\u001b[0m: name 'df1' is not defined"
     ]
    }
   ],
   "source": [
    "#joining all dataset into a single df\n",
    "df=pd.concat([df1,df2,df3],axis=0,ignore_index=True)"
   ]
  },
  {
   "cell_type": "code",
   "execution_count": 9,
   "id": "8f13ab1e",
   "metadata": {
    "execution": {
     "iopub.execute_input": "2023-11-07T03:43:36.540215Z",
     "iopub.status.busy": "2023-11-07T03:43:36.539864Z",
     "iopub.status.idle": "2023-11-07T03:43:36.561504Z",
     "shell.execute_reply": "2023-11-07T03:43:36.560449Z"
    },
    "papermill": {
     "duration": 0.032928,
     "end_time": "2023-11-07T03:43:36.563830",
     "exception": false,
     "start_time": "2023-11-07T03:43:36.530902",
     "status": "completed"
    },
    "tags": []
   },
   "outputs": [
    {
     "ename": "NameError",
     "evalue": "name 'df' is not defined",
     "output_type": "error",
     "traceback": [
      "\u001b[1;31m---------------------------------------------------------------------------\u001b[0m",
      "\u001b[1;31mNameError\u001b[0m                                 Traceback (most recent call last)",
      "\u001b[1;32m~\\AppData\\Local\\Temp\\ipykernel_30424\\3179008316.py\u001b[0m in \u001b[0;36m<module>\u001b[1;34m\u001b[0m\n\u001b[0;32m      1\u001b[0m \u001b[1;31m#first few rows of df\u001b[0m\u001b[1;33m\u001b[0m\u001b[1;33m\u001b[0m\u001b[0m\n\u001b[1;32m----> 2\u001b[1;33m \u001b[0mdf\u001b[0m\u001b[1;33m.\u001b[0m\u001b[0mhead\u001b[0m\u001b[1;33m(\u001b[0m\u001b[1;33m)\u001b[0m\u001b[1;33m\u001b[0m\u001b[1;33m\u001b[0m\u001b[0m\n\u001b[0m",
      "\u001b[1;31mNameError\u001b[0m: name 'df' is not defined"
     ]
    }
   ],
   "source": [
    "#first few rows of df\n",
    "df.head()"
   ]
  },
  {
   "cell_type": "code",
   "execution_count": null,
   "id": "0bad9eb5",
   "metadata": {
    "execution": {
     "iopub.execute_input": "2023-11-07T03:43:36.581361Z",
     "iopub.status.busy": "2023-11-07T03:43:36.580815Z",
     "iopub.status.idle": "2023-11-07T03:43:36.588447Z",
     "shell.execute_reply": "2023-11-07T03:43:36.587800Z"
    },
    "papermill": {
     "duration": 0.018302,
     "end_time": "2023-11-07T03:43:36.590077",
     "exception": false,
     "start_time": "2023-11-07T03:43:36.571775",
     "status": "completed"
    },
    "tags": []
   },
   "outputs": [],
   "source": [
    "#last few rows of df\n",
    "df.tail()"
   ]
  },
  {
   "cell_type": "code",
   "execution_count": null,
   "id": "945b7e50",
   "metadata": {
    "execution": {
     "iopub.execute_input": "2023-11-07T03:43:36.608213Z",
     "iopub.status.busy": "2023-11-07T03:43:36.607660Z",
     "iopub.status.idle": "2023-11-07T03:43:36.612780Z",
     "shell.execute_reply": "2023-11-07T03:43:36.611912Z"
    },
    "papermill": {
     "duration": 0.016205,
     "end_time": "2023-11-07T03:43:36.614698",
     "exception": false,
     "start_time": "2023-11-07T03:43:36.598493",
     "status": "completed"
    },
    "tags": []
   },
   "outputs": [],
   "source": [
    "#no of rows and columns in df\n",
    "df.shape"
   ]
  },
  {
   "cell_type": "code",
   "execution_count": null,
   "id": "c1c6eda3",
   "metadata": {
    "execution": {
     "iopub.execute_input": "2023-11-07T03:43:36.633140Z",
     "iopub.status.busy": "2023-11-07T03:43:36.632275Z",
     "iopub.status.idle": "2023-11-07T03:43:36.659600Z",
     "shell.execute_reply": "2023-11-07T03:43:36.657722Z"
    },
    "papermill": {
     "duration": 0.038441,
     "end_time": "2023-11-07T03:43:36.661487",
     "exception": false,
     "start_time": "2023-11-07T03:43:36.623046",
     "status": "completed"
    },
    "tags": []
   },
   "outputs": [],
   "source": [
    "#name & datatype of columns\n",
    "df.info()"
   ]
  },
  {
   "cell_type": "code",
   "execution_count": null,
   "id": "0efd4831",
   "metadata": {
    "execution": {
     "iopub.execute_input": "2023-11-07T03:43:36.679379Z",
     "iopub.status.busy": "2023-11-07T03:43:36.678767Z",
     "iopub.status.idle": "2023-11-07T03:43:36.715543Z",
     "shell.execute_reply": "2023-11-07T03:43:36.714606Z"
    },
    "papermill": {
     "duration": 0.048107,
     "end_time": "2023-11-07T03:43:36.717717",
     "exception": false,
     "start_time": "2023-11-07T03:43:36.669610",
     "status": "completed"
    },
    "tags": []
   },
   "outputs": [],
   "source": [
    "#perform basic statistical operations in numeric columns\n",
    "df.describe()"
   ]
  },
  {
   "cell_type": "code",
   "execution_count": null,
   "id": "77a3741a",
   "metadata": {
    "execution": {
     "iopub.execute_input": "2023-11-07T03:43:36.736373Z",
     "iopub.status.busy": "2023-11-07T03:43:36.735773Z",
     "iopub.status.idle": "2023-11-07T03:43:36.744423Z",
     "shell.execute_reply": "2023-11-07T03:43:36.743037Z"
    },
    "papermill": {
     "duration": 0.020563,
     "end_time": "2023-11-07T03:43:36.746850",
     "exception": false,
     "start_time": "2023-11-07T03:43:36.726287",
     "status": "completed"
    },
    "tags": []
   },
   "outputs": [],
   "source": [
    "#check missing values\n",
    "df.isnull().sum()"
   ]
  },
  {
   "cell_type": "code",
   "execution_count": null,
   "id": "442e1994",
   "metadata": {
    "execution": {
     "iopub.execute_input": "2023-11-07T03:43:36.767053Z",
     "iopub.status.busy": "2023-11-07T03:43:36.766669Z",
     "iopub.status.idle": "2023-11-07T03:43:36.773728Z",
     "shell.execute_reply": "2023-11-07T03:43:36.772348Z"
    },
    "papermill": {
     "duration": 0.019105,
     "end_time": "2023-11-07T03:43:36.775736",
     "exception": false,
     "start_time": "2023-11-07T03:43:36.756631",
     "status": "completed"
    },
    "tags": []
   },
   "outputs": [],
   "source": [
    "#renaming the name of columns\n",
    "new_columns={\n",
    "    'age_years':'Age',\"sex_0male_1female\":'Sex','episode_number':'Episode Number'\n",
    "    ,'hospital_outcome_1alive_0dead':'Hospital Outcome'\n",
    "}\n",
    "df=df.rename(columns=new_columns)"
   ]
  },
  {
   "cell_type": "code",
   "execution_count": null,
   "id": "c390dda1",
   "metadata": {
    "execution": {
     "iopub.execute_input": "2023-11-07T03:43:36.794979Z",
     "iopub.status.busy": "2023-11-07T03:43:36.794241Z",
     "iopub.status.idle": "2023-11-07T03:43:36.802858Z",
     "shell.execute_reply": "2023-11-07T03:43:36.801915Z"
    },
    "papermill": {
     "duration": 0.020724,
     "end_time": "2023-11-07T03:43:36.805235",
     "exception": false,
     "start_time": "2023-11-07T03:43:36.784511",
     "status": "completed"
    },
    "tags": []
   },
   "outputs": [],
   "source": [
    "df.head()"
   ]
  },
  {
   "cell_type": "code",
   "execution_count": null,
   "id": "4d5215a0",
   "metadata": {
    "execution": {
     "iopub.execute_input": "2023-11-07T03:43:36.825189Z",
     "iopub.status.busy": "2023-11-07T03:43:36.824668Z",
     "iopub.status.idle": "2023-11-07T03:43:37.016551Z",
     "shell.execute_reply": "2023-11-07T03:43:37.015762Z"
    },
    "papermill": {
     "duration": 0.204651,
     "end_time": "2023-11-07T03:43:37.018629",
     "exception": false,
     "start_time": "2023-11-07T03:43:36.813978",
     "status": "completed"
    },
    "tags": []
   },
   "outputs": [],
   "source": [
    "#countplot of Hospital Outcome column\n",
    "plt.figure(figsize=(8,6))\n",
    "sns.countplot(data=df,x='Hospital Outcome')\n",
    "plt.show()"
   ]
  },
  {
   "cell_type": "code",
   "execution_count": 7,
   "id": "aa008d15",
   "metadata": {
    "execution": {
     "iopub.execute_input": "2023-11-07T03:43:37.038789Z",
     "iopub.status.busy": "2023-11-07T03:43:37.038381Z",
     "iopub.status.idle": "2023-11-07T03:43:37.284800Z",
     "shell.execute_reply": "2023-11-07T03:43:37.283443Z"
    },
    "papermill": {
     "duration": 0.259008,
     "end_time": "2023-11-07T03:43:37.286826",
     "exception": false,
     "start_time": "2023-11-07T03:43:37.027818",
     "status": "completed"
    },
    "tags": []
   },
   "outputs": [
    {
     "ename": "NameError",
     "evalue": "name 'df' is not defined",
     "output_type": "error",
     "traceback": [
      "\u001b[1;31m---------------------------------------------------------------------------\u001b[0m",
      "\u001b[1;31mNameError\u001b[0m                                 Traceback (most recent call last)",
      "\u001b[1;32m~\\AppData\\Local\\Temp\\ipykernel_30424\\2566269988.py\u001b[0m in \u001b[0;36m<module>\u001b[1;34m\u001b[0m\n\u001b[0;32m      1\u001b[0m \u001b[1;31m#heatmap of correlation between all columns\u001b[0m\u001b[1;33m\u001b[0m\u001b[1;33m\u001b[0m\u001b[0m\n\u001b[1;32m----> 2\u001b[1;33m \u001b[0mcor\u001b[0m\u001b[1;33m=\u001b[0m\u001b[0mdf\u001b[0m\u001b[1;33m.\u001b[0m\u001b[0mcorr\u001b[0m\u001b[1;33m(\u001b[0m\u001b[1;33m)\u001b[0m\u001b[1;33m\u001b[0m\u001b[1;33m\u001b[0m\u001b[0m\n\u001b[0m\u001b[0;32m      3\u001b[0m \u001b[0mplt\u001b[0m\u001b[1;33m.\u001b[0m\u001b[0mfigure\u001b[0m\u001b[1;33m(\u001b[0m\u001b[0mfigsize\u001b[0m\u001b[1;33m=\u001b[0m\u001b[1;33m(\u001b[0m\u001b[1;36m8\u001b[0m\u001b[1;33m,\u001b[0m\u001b[1;36m8\u001b[0m\u001b[1;33m)\u001b[0m\u001b[1;33m)\u001b[0m\u001b[1;33m\u001b[0m\u001b[1;33m\u001b[0m\u001b[0m\n\u001b[0;32m      4\u001b[0m \u001b[0msns\u001b[0m\u001b[1;33m.\u001b[0m\u001b[0mheatmap\u001b[0m\u001b[1;33m(\u001b[0m\u001b[0mcor\u001b[0m\u001b[1;33m,\u001b[0m \u001b[0mannot\u001b[0m\u001b[1;33m=\u001b[0m\u001b[1;32mTrue\u001b[0m\u001b[1;33m,\u001b[0m \u001b[0mfmt\u001b[0m\u001b[1;33m=\u001b[0m\u001b[1;34m\".1f\"\u001b[0m\u001b[1;33m)\u001b[0m\u001b[1;33m\u001b[0m\u001b[1;33m\u001b[0m\u001b[0m\n\u001b[0;32m      5\u001b[0m \u001b[0mplt\u001b[0m\u001b[1;33m.\u001b[0m\u001b[0mshow\u001b[0m\u001b[1;33m(\u001b[0m\u001b[1;33m)\u001b[0m\u001b[1;33m\u001b[0m\u001b[1;33m\u001b[0m\u001b[0m\n",
      "\u001b[1;31mNameError\u001b[0m: name 'df' is not defined"
     ]
    }
   ],
   "source": [
    "#heatmap of correlation between all columns\n",
    "cor=df.corr()\n",
    "plt.figure(figsize=(8,8))\n",
    "sns.heatmap(cor, annot=True, fmt=\".1f\")\n",
    "plt.show()"
   ]
  },
  {
   "cell_type": "code",
   "execution_count": 6,
   "id": "d35c2548",
   "metadata": {
    "execution": {
     "iopub.execute_input": "2023-11-07T03:43:37.306877Z",
     "iopub.status.busy": "2023-11-07T03:43:37.306550Z",
     "iopub.status.idle": "2023-11-07T03:43:37.315608Z",
     "shell.execute_reply": "2023-11-07T03:43:37.314375Z"
    },
    "papermill": {
     "duration": 0.022046,
     "end_time": "2023-11-07T03:43:37.318267",
     "exception": false,
     "start_time": "2023-11-07T03:43:37.296221",
     "status": "completed"
    },
    "tags": []
   },
   "outputs": [
    {
     "ename": "NameError",
     "evalue": "name 'df' is not defined",
     "output_type": "error",
     "traceback": [
      "\u001b[1;31m---------------------------------------------------------------------------\u001b[0m",
      "\u001b[1;31mNameError\u001b[0m                                 Traceback (most recent call last)",
      "\u001b[1;32m~\\AppData\\Local\\Temp\\ipykernel_30424\\1668286262.py\u001b[0m in \u001b[0;36m<module>\u001b[1;34m\u001b[0m\n\u001b[0;32m      1\u001b[0m \u001b[1;31m# seperate the feature variables & target variable\u001b[0m\u001b[1;33m\u001b[0m\u001b[1;33m\u001b[0m\u001b[0m\n\u001b[1;32m----> 2\u001b[1;33m \u001b[0mX\u001b[0m\u001b[1;33m=\u001b[0m\u001b[0mdf\u001b[0m\u001b[1;33m.\u001b[0m\u001b[0mdrop\u001b[0m\u001b[1;33m(\u001b[0m\u001b[0mcolumns\u001b[0m\u001b[1;33m=\u001b[0m\u001b[1;34m'Hospital Outcome'\u001b[0m\u001b[1;33m)\u001b[0m\u001b[1;33m\u001b[0m\u001b[1;33m\u001b[0m\u001b[0m\n\u001b[0m\u001b[0;32m      3\u001b[0m \u001b[0mY\u001b[0m\u001b[1;33m=\u001b[0m\u001b[0mdf\u001b[0m\u001b[1;33m[\u001b[0m\u001b[1;34m'Hospital Outcome'\u001b[0m\u001b[1;33m]\u001b[0m\u001b[1;33m\u001b[0m\u001b[1;33m\u001b[0m\u001b[0m\n",
      "\u001b[1;31mNameError\u001b[0m: name 'df' is not defined"
     ]
    }
   ],
   "source": [
    "# seperate the feature variables & target variable\n",
    "X=df.drop(columns='Hospital Outcome')\n",
    "Y=df['Hospital Outcome']"
   ]
  },
  {
   "cell_type": "code",
   "execution_count": null,
   "id": "6b9590dc",
   "metadata": {
    "execution": {
     "iopub.execute_input": "2023-11-07T03:43:37.339275Z",
     "iopub.status.busy": "2023-11-07T03:43:37.338164Z",
     "iopub.status.idle": "2023-11-07T03:43:37.357182Z",
     "shell.execute_reply": "2023-11-07T03:43:37.355788Z"
    },
    "papermill": {
     "duration": 0.031965,
     "end_time": "2023-11-07T03:43:37.359733",
     "exception": false,
     "start_time": "2023-11-07T03:43:37.327768",
     "status": "completed"
    },
    "tags": []
   },
   "outputs": [],
   "source": [
    "#train test split\n",
    "X_train,X_test,Y_train,Y_test=train_test_split(X,Y,test_size=0.25)"
   ]
  },
  {
   "cell_type": "markdown",
   "id": "1479aec6",
   "metadata": {
    "papermill": {
     "duration": 0.008935,
     "end_time": "2023-11-07T03:43:37.378030",
     "exception": false,
     "start_time": "2023-11-07T03:43:37.369095",
     "status": "completed"
    },
    "tags": []
   },
   "source": [
    "**Standardization**"
   ]
  },
  {
   "cell_type": "code",
   "execution_count": null,
   "id": "3c69b8a4",
   "metadata": {
    "execution": {
     "iopub.execute_input": "2023-11-07T03:43:37.398008Z",
     "iopub.status.busy": "2023-11-07T03:43:37.397686Z",
     "iopub.status.idle": "2023-11-07T03:43:37.401087Z",
     "shell.execute_reply": "2023-11-07T03:43:37.400524Z"
    },
    "papermill": {
     "duration": 0.01554,
     "end_time": "2023-11-07T03:43:37.402693",
     "exception": false,
     "start_time": "2023-11-07T03:43:37.387153",
     "status": "completed"
    },
    "tags": []
   },
   "outputs": [],
   "source": [
    "SS=StandardScaler()"
   ]
  },
  {
   "cell_type": "code",
   "execution_count": null,
   "id": "3f9bff8c",
   "metadata": {
    "execution": {
     "iopub.execute_input": "2023-11-07T03:43:37.422968Z",
     "iopub.status.busy": "2023-11-07T03:43:37.422436Z",
     "iopub.status.idle": "2023-11-07T03:43:37.433342Z",
     "shell.execute_reply": "2023-11-07T03:43:37.432651Z"
    },
    "papermill": {
     "duration": 0.02362,
     "end_time": "2023-11-07T03:43:37.435643",
     "exception": false,
     "start_time": "2023-11-07T03:43:37.412023",
     "status": "completed"
    },
    "tags": []
   },
   "outputs": [],
   "source": [
    "X_train_transformed=SS.fit_transform(X_train)"
   ]
  },
  {
   "cell_type": "code",
   "execution_count": null,
   "id": "07d5684a",
   "metadata": {
    "execution": {
     "iopub.execute_input": "2023-11-07T03:43:37.457180Z",
     "iopub.status.busy": "2023-11-07T03:43:37.456603Z",
     "iopub.status.idle": "2023-11-07T03:43:37.462601Z",
     "shell.execute_reply": "2023-11-07T03:43:37.461681Z"
    },
    "papermill": {
     "duration": 0.019741,
     "end_time": "2023-11-07T03:43:37.464941",
     "exception": false,
     "start_time": "2023-11-07T03:43:37.445200",
     "status": "completed"
    },
    "tags": []
   },
   "outputs": [],
   "source": [
    "X_test_transformed=SS.transform(X_test)"
   ]
  },
  {
   "cell_type": "markdown",
   "id": "7cbde175",
   "metadata": {
    "papermill": {
     "duration": 0.009647,
     "end_time": "2023-11-07T03:43:37.484265",
     "exception": false,
     "start_time": "2023-11-07T03:43:37.474618",
     "status": "completed"
    },
    "tags": []
   },
   "source": [
    "**Logistic Regression**"
   ]
  },
  {
   "cell_type": "code",
   "execution_count": null,
   "id": "68051525",
   "metadata": {
    "execution": {
     "iopub.execute_input": "2023-11-07T03:43:37.504695Z",
     "iopub.status.busy": "2023-11-07T03:43:37.504067Z",
     "iopub.status.idle": "2023-11-07T03:43:37.508516Z",
     "shell.execute_reply": "2023-11-07T03:43:37.507301Z"
    },
    "papermill": {
     "duration": 0.016436,
     "end_time": "2023-11-07T03:43:37.510231",
     "exception": false,
     "start_time": "2023-11-07T03:43:37.493795",
     "status": "completed"
    },
    "tags": []
   },
   "outputs": [],
   "source": [
    "LR=LogisticRegression()"
   ]
  },
  {
   "cell_type": "code",
   "execution_count": null,
   "id": "2e32e657",
   "metadata": {
    "execution": {
     "iopub.execute_input": "2023-11-07T03:43:37.585039Z",
     "iopub.status.busy": "2023-11-07T03:43:37.582960Z",
     "iopub.status.idle": "2023-11-07T03:43:37.651847Z",
     "shell.execute_reply": "2023-11-07T03:43:37.651099Z"
    },
    "papermill": {
     "duration": 0.081559,
     "end_time": "2023-11-07T03:43:37.653874",
     "exception": false,
     "start_time": "2023-11-07T03:43:37.572315",
     "status": "completed"
    },
    "tags": []
   },
   "outputs": [],
   "source": [
    "LR.fit(X_train_transformed,Y_train)"
   ]
  },
  {
   "cell_type": "code",
   "execution_count": null,
   "id": "156d54a4",
   "metadata": {
    "execution": {
     "iopub.execute_input": "2023-11-07T03:43:37.681201Z",
     "iopub.status.busy": "2023-11-07T03:43:37.680071Z",
     "iopub.status.idle": "2023-11-07T03:43:37.685113Z",
     "shell.execute_reply": "2023-11-07T03:43:37.684430Z"
    },
    "papermill": {
     "duration": 0.022006,
     "end_time": "2023-11-07T03:43:37.688492",
     "exception": false,
     "start_time": "2023-11-07T03:43:37.666486",
     "status": "completed"
    },
    "tags": []
   },
   "outputs": [],
   "source": [
    "Y_pred=LR.predict(X_test_transformed)"
   ]
  },
  {
   "cell_type": "code",
   "execution_count": null,
   "id": "039ea3ee",
   "metadata": {
    "execution": {
     "iopub.execute_input": "2023-11-07T03:43:37.714361Z",
     "iopub.status.busy": "2023-11-07T03:43:37.714018Z",
     "iopub.status.idle": "2023-11-07T03:43:37.721846Z",
     "shell.execute_reply": "2023-11-07T03:43:37.721146Z"
    },
    "papermill": {
     "duration": 0.025447,
     "end_time": "2023-11-07T03:43:37.726275",
     "exception": false,
     "start_time": "2023-11-07T03:43:37.700828",
     "status": "completed"
    },
    "tags": []
   },
   "outputs": [],
   "source": [
    "accuracy = accuracy_score(Y_test, Y_pred)\n",
    "\n",
    "print(\"Accuracy:\", accuracy)"
   ]
  },
  {
   "cell_type": "markdown",
   "id": "355e854c",
   "metadata": {
    "papermill": {
     "duration": 0.0122,
     "end_time": "2023-11-07T03:43:37.750707",
     "exception": false,
     "start_time": "2023-11-07T03:43:37.738507",
     "status": "completed"
    },
    "tags": []
   },
   "source": [
    "**KNN**"
   ]
  },
  {
   "cell_type": "code",
   "execution_count": null,
   "id": "641a322e",
   "metadata": {
    "execution": {
     "iopub.execute_input": "2023-11-07T03:43:37.776810Z",
     "iopub.status.busy": "2023-11-07T03:43:37.776469Z",
     "iopub.status.idle": "2023-11-07T03:43:37.780080Z",
     "shell.execute_reply": "2023-11-07T03:43:37.779432Z"
    },
    "papermill": {
     "duration": 0.0203,
     "end_time": "2023-11-07T03:43:37.783348",
     "exception": false,
     "start_time": "2023-11-07T03:43:37.763048",
     "status": "completed"
    },
    "tags": []
   },
   "outputs": [],
   "source": [
    "accurac1y=[]"
   ]
  },
  {
   "cell_type": "code",
   "execution_count": null,
   "id": "60cfcc6a",
   "metadata": {
    "execution": {
     "iopub.execute_input": "2023-11-07T03:43:37.807843Z",
     "iopub.status.busy": "2023-11-07T03:43:37.807447Z",
     "iopub.status.idle": "2023-11-07T03:44:01.933176Z",
     "shell.execute_reply": "2023-11-07T03:44:01.932187Z"
    },
    "papermill": {
     "duration": 24.139801,
     "end_time": "2023-11-07T03:44:01.935591",
     "exception": false,
     "start_time": "2023-11-07T03:43:37.795790",
     "status": "completed"
    },
    "tags": []
   },
   "outputs": [],
   "source": [
    "for i in range(3,16):\n",
    "    KNN=KNeighborsClassifier(n_neighbors=i)\n",
    "    KNN.fit(X_train_transformed,Y_train)\n",
    "    Y_pred2=KNN.predict(X_test_transformed)\n",
    "    accurac1y.append(accuracy_score(Y_test, Y_pred2))"
   ]
  },
  {
   "cell_type": "code",
   "execution_count": null,
   "id": "ca1ea5c4",
   "metadata": {
    "execution": {
     "iopub.execute_input": "2023-11-07T03:44:01.956552Z",
     "iopub.status.busy": "2023-11-07T03:44:01.956170Z",
     "iopub.status.idle": "2023-11-07T03:44:01.962818Z",
     "shell.execute_reply": "2023-11-07T03:44:01.961257Z"
    },
    "papermill": {
     "duration": 0.019954,
     "end_time": "2023-11-07T03:44:01.965524",
     "exception": false,
     "start_time": "2023-11-07T03:44:01.945570",
     "status": "completed"
    },
    "tags": []
   },
   "outputs": [],
   "source": [
    "print('Accuracy max :',max(accurac1y))"
   ]
  },
  {
   "cell_type": "code",
   "execution_count": null,
   "id": "9b745065",
   "metadata": {
    "execution": {
     "iopub.execute_input": "2023-11-07T03:44:01.987908Z",
     "iopub.status.busy": "2023-11-07T03:44:01.987576Z",
     "iopub.status.idle": "2023-11-07T03:44:02.175267Z",
     "shell.execute_reply": "2023-11-07T03:44:02.173366Z"
    },
    "papermill": {
     "duration": 0.201714,
     "end_time": "2023-11-07T03:44:02.177762",
     "exception": false,
     "start_time": "2023-11-07T03:44:01.976048",
     "status": "completed"
    },
    "tags": []
   },
   "outputs": [],
   "source": [
    "plt.plot(range(3,16),accurac1y)"
   ]
  },
  {
   "cell_type": "markdown",
   "id": "24885c8b",
   "metadata": {
    "papermill": {
     "duration": 0.009368,
     "end_time": "2023-11-07T03:44:02.197927",
     "exception": false,
     "start_time": "2023-11-07T03:44:02.188559",
     "status": "completed"
    },
    "tags": []
   },
   "source": [
    "Here we can see from the graph that accuracy score is maximum at k=9\n",
    "\n"
   ]
  },
  {
   "cell_type": "markdown",
   "id": "46992076",
   "metadata": {
    "papermill": {
     "duration": 0.010162,
     "end_time": "2023-11-07T03:44:02.219701",
     "exception": false,
     "start_time": "2023-11-07T03:44:02.209539",
     "status": "completed"
    },
    "tags": []
   },
   "source": [
    "**Decision Tree Classifier**"
   ]
  },
  {
   "cell_type": "code",
   "execution_count": null,
   "id": "5fc70683",
   "metadata": {
    "execution": {
     "iopub.execute_input": "2023-11-07T03:44:02.242365Z",
     "iopub.status.busy": "2023-11-07T03:44:02.241985Z",
     "iopub.status.idle": "2023-11-07T03:44:02.247657Z",
     "shell.execute_reply": "2023-11-07T03:44:02.246476Z"
    },
    "papermill": {
     "duration": 0.019955,
     "end_time": "2023-11-07T03:44:02.249915",
     "exception": false,
     "start_time": "2023-11-07T03:44:02.229960",
     "status": "completed"
    },
    "tags": []
   },
   "outputs": [],
   "source": [
    "accurac=[]"
   ]
  },
  {
   "cell_type": "code",
   "execution_count": null,
   "id": "e2199fc9",
   "metadata": {
    "execution": {
     "iopub.execute_input": "2023-11-07T03:44:02.272341Z",
     "iopub.status.busy": "2023-11-07T03:44:02.271958Z",
     "iopub.status.idle": "2023-11-07T03:44:03.363155Z",
     "shell.execute_reply": "2023-11-07T03:44:03.361660Z"
    },
    "papermill": {
     "duration": 1.105149,
     "end_time": "2023-11-07T03:44:03.365797",
     "exception": false,
     "start_time": "2023-11-07T03:44:02.260648",
     "status": "completed"
    },
    "tags": []
   },
   "outputs": [],
   "source": [
    "for i in range(2,16):\n",
    "    DTC=DecisionTreeClassifier(max_depth=i)\n",
    "    DTC.fit(X_train_transformed,Y_train)\n",
    "    Y_pred2=DTC.predict(X_test_transformed)\n",
    "    accurac.append(accuracy_score(Y_test, Y_pred2))"
   ]
  },
  {
   "cell_type": "code",
   "execution_count": null,
   "id": "8f646f98",
   "metadata": {
    "execution": {
     "iopub.execute_input": "2023-11-07T03:44:03.388503Z",
     "iopub.status.busy": "2023-11-07T03:44:03.388136Z",
     "iopub.status.idle": "2023-11-07T03:44:03.392239Z",
     "shell.execute_reply": "2023-11-07T03:44:03.391627Z"
    },
    "papermill": {
     "duration": 0.01797,
     "end_time": "2023-11-07T03:44:03.394328",
     "exception": false,
     "start_time": "2023-11-07T03:44:03.376358",
     "status": "completed"
    },
    "tags": []
   },
   "outputs": [],
   "source": [
    "print('Accuracy max :',max(accurac))"
   ]
  },
  {
   "cell_type": "code",
   "execution_count": 3,
   "id": "f8307d6d",
   "metadata": {
    "execution": {
     "iopub.execute_input": "2023-11-07T03:44:03.416743Z",
     "iopub.status.busy": "2023-11-07T03:44:03.416354Z",
     "iopub.status.idle": "2023-11-07T03:44:03.640953Z",
     "shell.execute_reply": "2023-11-07T03:44:03.639955Z"
    },
    "papermill": {
     "duration": 0.238097,
     "end_time": "2023-11-07T03:44:03.642920",
     "exception": false,
     "start_time": "2023-11-07T03:44:03.404823",
     "status": "completed"
    },
    "tags": []
   },
   "outputs": [
    {
     "ename": "NameError",
     "evalue": "name 'accurac' is not defined",
     "output_type": "error",
     "traceback": [
      "\u001b[1;31m---------------------------------------------------------------------------\u001b[0m",
      "\u001b[1;31mNameError\u001b[0m                                 Traceback (most recent call last)",
      "\u001b[1;32m~\\AppData\\Local\\Temp\\ipykernel_30424\\4155063232.py\u001b[0m in \u001b[0;36m<module>\u001b[1;34m\u001b[0m\n\u001b[1;32m----> 1\u001b[1;33m \u001b[0mplt\u001b[0m\u001b[1;33m.\u001b[0m\u001b[0mplot\u001b[0m\u001b[1;33m(\u001b[0m\u001b[0mrange\u001b[0m\u001b[1;33m(\u001b[0m\u001b[1;36m2\u001b[0m\u001b[1;33m,\u001b[0m\u001b[1;36m16\u001b[0m\u001b[1;33m)\u001b[0m\u001b[1;33m,\u001b[0m\u001b[0maccurac\u001b[0m\u001b[1;33m)\u001b[0m\u001b[1;33m\u001b[0m\u001b[1;33m\u001b[0m\u001b[0m\n\u001b[0m",
      "\u001b[1;31mNameError\u001b[0m: name 'accurac' is not defined"
     ]
    }
   ],
   "source": [
    "plt.plot(range(2,16),accurac)"
   ]
  },
  {
   "cell_type": "markdown",
   "id": "656f4fb5",
   "metadata": {
    "papermill": {
     "duration": 0.010589,
     "end_time": "2023-11-07T03:44:03.664380",
     "exception": false,
     "start_time": "2023-11-07T03:44:03.653791",
     "status": "completed"
    },
    "tags": []
   },
   "source": [
    "Here we can see from the graph that accuracy score is maximum at max_depth=3. lets keep the value of max_depth =9 and create another Decision Tree Classifier and visualize it"
   ]
  },
  {
   "cell_type": "code",
   "execution_count": 4,
   "id": "c969bb99",
   "metadata": {
    "execution": {
     "iopub.execute_input": "2023-11-07T03:44:03.691145Z",
     "iopub.status.busy": "2023-11-07T03:44:03.690768Z",
     "iopub.status.idle": "2023-11-07T03:44:03.742105Z",
     "shell.execute_reply": "2023-11-07T03:44:03.741011Z"
    },
    "papermill": {
     "duration": 0.068462,
     "end_time": "2023-11-07T03:44:03.744480",
     "exception": false,
     "start_time": "2023-11-07T03:44:03.676018",
     "status": "completed"
    },
    "tags": []
   },
   "outputs": [
    {
     "ename": "NameError",
     "evalue": "name 'X_train_transformed' is not defined",
     "output_type": "error",
     "traceback": [
      "\u001b[1;31m---------------------------------------------------------------------------\u001b[0m",
      "\u001b[1;31mNameError\u001b[0m                                 Traceback (most recent call last)",
      "\u001b[1;32m~\\AppData\\Local\\Temp\\ipykernel_30424\\1361951716.py\u001b[0m in \u001b[0;36m<module>\u001b[1;34m\u001b[0m\n\u001b[0;32m      1\u001b[0m \u001b[0mDTC1\u001b[0m\u001b[1;33m=\u001b[0m\u001b[0mDecisionTreeClassifier\u001b[0m\u001b[1;33m(\u001b[0m\u001b[0mmax_depth\u001b[0m\u001b[1;33m=\u001b[0m\u001b[1;36m3\u001b[0m\u001b[1;33m)\u001b[0m\u001b[1;33m\u001b[0m\u001b[1;33m\u001b[0m\u001b[0m\n\u001b[1;32m----> 2\u001b[1;33m \u001b[0mDTC1\u001b[0m\u001b[1;33m.\u001b[0m\u001b[0mfit\u001b[0m\u001b[1;33m(\u001b[0m\u001b[0mX_train_transformed\u001b[0m\u001b[1;33m,\u001b[0m\u001b[0mY_train\u001b[0m\u001b[1;33m)\u001b[0m\u001b[1;33m\u001b[0m\u001b[1;33m\u001b[0m\u001b[0m\n\u001b[0m\u001b[0;32m      3\u001b[0m \u001b[0my_pred21\u001b[0m\u001b[1;33m=\u001b[0m\u001b[0mDTC\u001b[0m\u001b[1;33m.\u001b[0m\u001b[0mpredict\u001b[0m\u001b[1;33m(\u001b[0m\u001b[0mX_test_transformed\u001b[0m\u001b[1;33m)\u001b[0m\u001b[1;33m\u001b[0m\u001b[1;33m\u001b[0m\u001b[0m\n",
      "\u001b[1;31mNameError\u001b[0m: name 'X_train_transformed' is not defined"
     ]
    }
   ],
   "source": [
    "DTC1=DecisionTreeClassifier(max_depth=3)\n",
    "DTC1.fit(X_train_transformed,Y_train)\n",
    "y_pred21=DTC.predict(X_test_transformed)"
   ]
  },
  {
   "cell_type": "code",
   "execution_count": 5,
   "id": "9faf6dae",
   "metadata": {
    "execution": {
     "iopub.execute_input": "2023-11-07T03:44:03.768195Z",
     "iopub.status.busy": "2023-11-07T03:44:03.767827Z",
     "iopub.status.idle": "2023-11-07T03:44:04.363476Z",
     "shell.execute_reply": "2023-11-07T03:44:04.361735Z"
    },
    "papermill": {
     "duration": 0.610835,
     "end_time": "2023-11-07T03:44:04.366174",
     "exception": false,
     "start_time": "2023-11-07T03:44:03.755339",
     "status": "completed"
    },
    "tags": []
   },
   "outputs": [
    {
     "ename": "NotFittedError",
     "evalue": "This DecisionTreeClassifier instance is not fitted yet. Call 'fit' with appropriate arguments before using this estimator.",
     "output_type": "error",
     "traceback": [
      "\u001b[1;31m---------------------------------------------------------------------------\u001b[0m",
      "\u001b[1;31mNotFittedError\u001b[0m                            Traceback (most recent call last)",
      "\u001b[1;32m~\\AppData\\Local\\Temp\\ipykernel_30424\\4183331594.py\u001b[0m in \u001b[0;36m<module>\u001b[1;34m\u001b[0m\n\u001b[0;32m      1\u001b[0m \u001b[1;31m#visualize the decision tree\u001b[0m\u001b[1;33m\u001b[0m\u001b[1;33m\u001b[0m\u001b[0m\n\u001b[0;32m      2\u001b[0m \u001b[0mplt\u001b[0m\u001b[1;33m.\u001b[0m\u001b[0mfigure\u001b[0m\u001b[1;33m(\u001b[0m\u001b[0mfigsize\u001b[0m\u001b[1;33m=\u001b[0m\u001b[1;33m(\u001b[0m\u001b[1;36m12\u001b[0m\u001b[1;33m,\u001b[0m \u001b[1;36m8\u001b[0m\u001b[1;33m)\u001b[0m\u001b[1;33m)\u001b[0m\u001b[1;33m\u001b[0m\u001b[1;33m\u001b[0m\u001b[0m\n\u001b[1;32m----> 3\u001b[1;33m \u001b[0mplot_tree\u001b[0m\u001b[1;33m(\u001b[0m\u001b[0mDTC1\u001b[0m\u001b[1;33m)\u001b[0m\u001b[1;33m\u001b[0m\u001b[1;33m\u001b[0m\u001b[0m\n\u001b[0m\u001b[0;32m      4\u001b[0m \u001b[0mplt\u001b[0m\u001b[1;33m.\u001b[0m\u001b[0mshow\u001b[0m\u001b[1;33m(\u001b[0m\u001b[1;33m)\u001b[0m\u001b[1;33m\u001b[0m\u001b[1;33m\u001b[0m\u001b[0m\n",
      "\u001b[1;32m~\\anaconda3\\lib\\site-packages\\sklearn\\tree\\_export.py\u001b[0m in \u001b[0;36mplot_tree\u001b[1;34m(decision_tree, max_depth, feature_names, class_names, label, filled, impurity, node_ids, proportion, rounded, precision, ax, fontsize)\u001b[0m\n\u001b[0;32m    178\u001b[0m     \"\"\"\n\u001b[0;32m    179\u001b[0m \u001b[1;33m\u001b[0m\u001b[0m\n\u001b[1;32m--> 180\u001b[1;33m     \u001b[0mcheck_is_fitted\u001b[0m\u001b[1;33m(\u001b[0m\u001b[0mdecision_tree\u001b[0m\u001b[1;33m)\u001b[0m\u001b[1;33m\u001b[0m\u001b[1;33m\u001b[0m\u001b[0m\n\u001b[0m\u001b[0;32m    181\u001b[0m \u001b[1;33m\u001b[0m\u001b[0m\n\u001b[0;32m    182\u001b[0m     exporter = _MPLTreeExporter(\n",
      "\u001b[1;32m~\\anaconda3\\lib\\site-packages\\sklearn\\utils\\validation.py\u001b[0m in \u001b[0;36mcheck_is_fitted\u001b[1;34m(estimator, attributes, msg, all_or_any)\u001b[0m\n\u001b[0;32m   1220\u001b[0m \u001b[1;33m\u001b[0m\u001b[0m\n\u001b[0;32m   1221\u001b[0m     \u001b[1;32mif\u001b[0m \u001b[1;32mnot\u001b[0m \u001b[0mfitted\u001b[0m\u001b[1;33m:\u001b[0m\u001b[1;33m\u001b[0m\u001b[1;33m\u001b[0m\u001b[0m\n\u001b[1;32m-> 1222\u001b[1;33m         \u001b[1;32mraise\u001b[0m \u001b[0mNotFittedError\u001b[0m\u001b[1;33m(\u001b[0m\u001b[0mmsg\u001b[0m \u001b[1;33m%\u001b[0m \u001b[1;33m{\u001b[0m\u001b[1;34m\"name\"\u001b[0m\u001b[1;33m:\u001b[0m \u001b[0mtype\u001b[0m\u001b[1;33m(\u001b[0m\u001b[0mestimator\u001b[0m\u001b[1;33m)\u001b[0m\u001b[1;33m.\u001b[0m\u001b[0m__name__\u001b[0m\u001b[1;33m}\u001b[0m\u001b[1;33m)\u001b[0m\u001b[1;33m\u001b[0m\u001b[1;33m\u001b[0m\u001b[0m\n\u001b[0m\u001b[0;32m   1223\u001b[0m \u001b[1;33m\u001b[0m\u001b[0m\n\u001b[0;32m   1224\u001b[0m \u001b[1;33m\u001b[0m\u001b[0m\n",
      "\u001b[1;31mNotFittedError\u001b[0m: This DecisionTreeClassifier instance is not fitted yet. Call 'fit' with appropriate arguments before using this estimator."
     ]
    },
    {
     "data": {
      "text/plain": [
       "<Figure size 1200x800 with 0 Axes>"
      ]
     },
     "metadata": {},
     "output_type": "display_data"
    }
   ],
   "source": [
    "#visualize the decision tree\n",
    "plt.figure(figsize=(12, 8))\n",
    "plot_tree(DTC1)\n",
    "plt.show()"
   ]
  },
  {
   "cell_type": "code",
   "execution_count": null,
   "id": "f83ec7b5",
   "metadata": {},
   "outputs": [],
   "source": []
  },
  {
   "cell_type": "code",
   "execution_count": null,
   "id": "c15ad4ff",
   "metadata": {},
   "outputs": [],
   "source": []
  }
 ],
 "metadata": {
  "kernelspec": {
   "display_name": "Python 3 (ipykernel)",
   "language": "python",
   "name": "python3"
  },
  "language_info": {
   "codemirror_mode": {
    "name": "ipython",
    "version": 3
   },
   "file_extension": ".py",
   "mimetype": "text/x-python",
   "name": "python",
   "nbconvert_exporter": "python",
   "pygments_lexer": "ipython3",
   "version": "3.9.13"
  },
  "papermill": {
   "default_parameters": {},
   "duration": 33.99695,
   "end_time": "2023-11-07T03:44:04.999158",
   "environment_variables": {},
   "exception": null,
   "input_path": "__notebook__.ipynb",
   "output_path": "__notebook__.ipynb",
   "parameters": {},
   "start_time": "2023-11-07T03:43:31.002208",
   "version": "2.4.0"
  }
 },
 "nbformat": 4,
 "nbformat_minor": 5
}
